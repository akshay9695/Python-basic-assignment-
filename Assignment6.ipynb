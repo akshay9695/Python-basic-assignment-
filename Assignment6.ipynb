{
 "cells": [
  {
   "cell_type": "code",
   "execution_count": null,
   "id": "3db2cb6e",
   "metadata": {},
   "outputs": [],
   "source": [
    "1. 1.What are Escape characters ? and how do you use them ?\n",
    "\n",
    "Ans : Escape characters represent characters in string values that would otherwise be difficult or impossible to type into code. we can use the backslash character to escape a single character or symbol\n",
    "    \n",
    "    \\t, \\n"
   ]
  },
  {
   "cell_type": "code",
   "execution_count": 4,
   "id": "7e90b672",
   "metadata": {},
   "outputs": [],
   "source": [
    "a = \"we are the indian \\\"we proude \\\" that.\""
   ]
  },
  {
   "cell_type": "code",
   "execution_count": 5,
   "id": "79656765",
   "metadata": {},
   "outputs": [
    {
     "data": {
      "text/plain": [
       "'we are the indian \"we proude \" that.'"
      ]
     },
     "execution_count": 5,
     "metadata": {},
     "output_type": "execute_result"
    }
   ],
   "source": [
    "a"
   ]
  },
  {
   "cell_type": "code",
   "execution_count": null,
   "id": "db2bed8a",
   "metadata": {},
   "outputs": [],
   "source": [
    "2.What do the escape characters n and t stand for ?\n",
    "\n",
    "Ans : \\n is a newline, \\t is a tab"
   ]
  },
  {
   "cell_type": "code",
   "execution_count": 8,
   "id": "27ca9997",
   "metadata": {},
   "outputs": [],
   "source": [
    "a = \"hello\\nword\""
   ]
  },
  {
   "cell_type": "code",
   "execution_count": 10,
   "id": "05aa836d",
   "metadata": {},
   "outputs": [
    {
     "name": "stdout",
     "output_type": "stream",
     "text": [
      "hello\n",
      "word\n"
     ]
    }
   ],
   "source": [
    "print(a)"
   ]
  },
  {
   "cell_type": "code",
   "execution_count": 11,
   "id": "cddb14b5",
   "metadata": {},
   "outputs": [],
   "source": [
    "b = \"hello\\tword\""
   ]
  },
  {
   "cell_type": "code",
   "execution_count": 12,
   "id": "1cb2c1a9",
   "metadata": {},
   "outputs": [
    {
     "name": "stdout",
     "output_type": "stream",
     "text": [
      "hello\tword\n"
     ]
    }
   ],
   "source": [
    "print(b)"
   ]
  },
  {
   "cell_type": "code",
   "execution_count": null,
   "id": "51df50d9",
   "metadata": {},
   "outputs": [],
   "source": [
    "3. What is the way to include backslash character in a string?"
   ]
  },
  {
   "cell_type": "code",
   "execution_count": null,
   "id": "9c7c292b",
   "metadata": {},
   "outputs": [],
   "source": [
    "Ans : he \\\\ escape character will represent the backslash character in a string"
   ]
  },
  {
   "cell_type": "code",
   "execution_count": null,
   "id": "140c786b",
   "metadata": {},
   "outputs": [],
   "source": [
    "4. The string \"Howl's Moving Castle\" is a correct value. Why isn't the single quote character in the word Howl's not escaped a problem ?"
   ]
  },
  {
   "cell_type": "code",
   "execution_count": null,
   "id": "b6d4998f",
   "metadata": {},
   "outputs": [],
   "source": [
    "Ans : The string \"Howl's Moving Castle\" escaped the problem because it is wrapped inside double quotes. if its wrapped inside single quotes then we have to use escape character \\' to show single quote in the final output"
   ]
  },
  {
   "cell_type": "code",
   "execution_count": 13,
   "id": "1baec4d5",
   "metadata": {},
   "outputs": [
    {
     "data": {
      "text/plain": [
       "\"Howl's Moving Castle\""
      ]
     },
     "execution_count": 13,
     "metadata": {},
     "output_type": "execute_result"
    }
   ],
   "source": [
    "'Howl\\'s Moving Castle'"
   ]
  },
  {
   "cell_type": "code",
   "execution_count": null,
   "id": "97f23f05",
   "metadata": {},
   "outputs": [],
   "source": [
    "5.How do you write a string of newlines if you don't want to use the n character?"
   ]
  },
  {
   "cell_type": "code",
   "execution_count": 17,
   "id": "f9a0bebb",
   "metadata": {},
   "outputs": [],
   "source": [
    "#ans : \n",
    "a = ''' my name is akshay\n",
    "    people also called akki '''"
   ]
  },
  {
   "cell_type": "code",
   "execution_count": 18,
   "id": "2211a423",
   "metadata": {},
   "outputs": [
    {
     "name": "stdout",
     "output_type": "stream",
     "text": [
      " my name is akshay\n",
      "    people also called akki \n"
     ]
    }
   ],
   "source": [
    "print(a)"
   ]
  },
  {
   "cell_type": "code",
   "execution_count": null,
   "id": "1f28d2a0",
   "metadata": {},
   "outputs": [],
   "source": [
    "6.What are the values of the given expressions ?\n",
    "'Hello, world!'[1]\n",
    "'Hello, world!'[0:5]\n",
    "'Hello, world!'[:5]\n",
    "'Hello, world!'[3:]"
   ]
  },
  {
   "cell_type": "code",
   "execution_count": 22,
   "id": "b96e41a1",
   "metadata": {},
   "outputs": [
    {
     "data": {
      "text/plain": [
       "'Hello'"
      ]
     },
     "execution_count": 22,
     "metadata": {},
     "output_type": "execute_result"
    }
   ],
   "source": [
    "#ans \n",
    "a ='Hello, world!'\n",
    "a[1]\n"
   ]
  },
  {
   "cell_type": "code",
   "execution_count": 23,
   "id": "3fc737b1",
   "metadata": {},
   "outputs": [
    {
     "data": {
      "text/plain": [
       "'Hello'"
      ]
     },
     "execution_count": 23,
     "metadata": {},
     "output_type": "execute_result"
    }
   ],
   "source": [
    "a[0:5]"
   ]
  },
  {
   "cell_type": "code",
   "execution_count": 24,
   "id": "82b747cc",
   "metadata": {},
   "outputs": [
    {
     "data": {
      "text/plain": [
       "'Hello'"
      ]
     },
     "execution_count": 24,
     "metadata": {},
     "output_type": "execute_result"
    }
   ],
   "source": [
    "a[:5]"
   ]
  },
  {
   "cell_type": "code",
   "execution_count": 25,
   "id": "417725d5",
   "metadata": {},
   "outputs": [
    {
     "data": {
      "text/plain": [
       "'lo, world!'"
      ]
     },
     "execution_count": 25,
     "metadata": {},
     "output_type": "execute_result"
    }
   ],
   "source": [
    "a[3:]"
   ]
  },
  {
   "cell_type": "code",
   "execution_count": null,
   "id": "f52defd9",
   "metadata": {},
   "outputs": [],
   "source": [
    "7 . What are the values of the following expressions ?\n",
    "'Hello'.upper()\n",
    "'Hello'.upper().isupper()\n",
    "'Hello'.upper().lower()"
   ]
  },
  {
   "cell_type": "code",
   "execution_count": 29,
   "id": "54c23f37",
   "metadata": {},
   "outputs": [
    {
     "ename": "SyntaxError",
     "evalue": "invalid syntax (3990938632.py, line 2)",
     "output_type": "error",
     "traceback": [
      "\u001b[1;36m  Input \u001b[1;32mIn [29]\u001b[1;36m\u001b[0m\n\u001b[1;33m    Hello'.upper() -> 'HELLO'\u001b[0m\n\u001b[1;37m         ^\u001b[0m\n\u001b[1;31mSyntaxError\u001b[0m\u001b[1;31m:\u001b[0m invalid syntax\n"
     ]
    }
   ],
   "source": [
    "#Ans : \n",
    "Hello'.upper() -> 'HELLO'\n",
    "'Hello'.upper().isupper() -> True\n",
    "'Hello'.upper().lower() -> 'hello'"
   ]
  },
  {
   "cell_type": "code",
   "execution_count": null,
   "id": "98312ccb",
   "metadata": {},
   "outputs": [],
   "source": [
    "\n",
    "8.What are the values of the following expressions ?\n",
    "\n",
    "'Remember, remember, the fifith of July.'.split()\n",
    "-'.join('There can only one'.split())\n"
   ]
  },
  {
   "cell_type": "code",
   "execution_count": null,
   "id": "52a962a9",
   "metadata": {},
   "outputs": [],
   "source": [
    "Ans : \n",
    "    Remember, remember, the fifith of July.'.split() -> ['Remember,', 'remember,', 'the', 'fifith', 'of', 'July.']\n",
    "'-'.join('There can only one'.split()) -> 'There-can-only-one'"
   ]
  },
  {
   "cell_type": "code",
   "execution_count": null,
   "id": "28fd7cbb",
   "metadata": {},
   "outputs": [],
   "source": [
    "9.What are the methods for right-justifying, left-justifying and centering a string ?\n",
    "Ans: The rjust(),ljust(),center() string methods, respectively\n",
    "\n",
    "str.ljust(s, width[, fillchar])\n",
    "\n",
    "str.rjust(s, width[, fillchar])\n",
    "\n",
    "str.center(s, width[, fillchar])"
   ]
  },
  {
   "cell_type": "code",
   "execution_count": null,
   "id": "d5144174",
   "metadata": {},
   "outputs": [],
   "source": [
    "10.What is the best way to remove whitespace characters from the start or end ?\n",
    "Ans: The lstrip() and rstrip() methods remove whitesapce characters from the left and right ends of a string respectively"
   ]
  }
 ],
 "metadata": {
  "kernelspec": {
   "display_name": "Python 3 (ipykernel)",
   "language": "python",
   "name": "python3"
  },
  "language_info": {
   "codemirror_mode": {
    "name": "ipython",
    "version": 3
   },
   "file_extension": ".py",
   "mimetype": "text/x-python",
   "name": "python",
   "nbconvert_exporter": "python",
   "pygments_lexer": "ipython3",
   "version": "3.9.12"
  }
 },
 "nbformat": 4,
 "nbformat_minor": 5
}
