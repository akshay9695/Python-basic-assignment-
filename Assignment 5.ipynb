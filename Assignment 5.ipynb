{
 "cells": [
  {
   "cell_type": "code",
   "execution_count": null,
   "id": "d3f9794e",
   "metadata": {},
   "outputs": [],
   "source": [
    "1.What does an empty dictionary's code look like?\n"
   ]
  },
  {
   "cell_type": "code",
   "execution_count": null,
   "id": "335f93c5",
   "metadata": {},
   "outputs": [],
   "source": [
    " Ans : d = {} or dict = ()"
   ]
  },
  {
   "cell_type": "code",
   "execution_count": null,
   "id": "21b06b39",
   "metadata": {},
   "outputs": [],
   "source": [
    "2.what is the value of dictionary value with key 'foo' and the value 42 ?\n",
    "Ans : d = {'foo' : 42}"
   ]
  },
  {
   "cell_type": "code",
   "execution_count": null,
   "id": "31466944",
   "metadata": {},
   "outputs": [],
   "source": [
    "3.What is the most significant distinction between a dictionary and a list?\n",
    "\n",
    "Ans : \n",
    "    Dictionaries are represented by {} where as listed are represented by []. The Items stored in a dictionary are Unordered , while the items in a list are ordered.\n",
    "\n",
    "Lists are just like the arrays, declared in other languages. Lists need not be homogeneous always which makes it a most powerful tool in Python. A single list may contain DataTypes like Integers, Strings, as well as Objects. Lists are mutable, and hence, they can be altered even after their creation.\n",
    "\n",
    "Dictionary in Python on the other hand is an unordered collection of data values, used to store data values like a map, which unlike other Data Types that hold only single value as an element, Dictionary holds key:value pair. Key-value is provided in the dictionary to make it more optimized. Each key-value pair in a Dictionary is separated by a colon :, whereas each key is separated by a ‘comma’."
   ]
  },
  {
   "cell_type": "code",
   "execution_count": null,
   "id": "86dfe67b",
   "metadata": {},
   "outputs": [],
   "source": [
    "4. What happens if you try to access spam ['foo'] if spam is {'bar':100} ?"
   ]
  },
  {
   "cell_type": "code",
   "execution_count": 9,
   "id": "3b23a984",
   "metadata": {},
   "outputs": [
    {
     "ename": "KeyError",
     "evalue": "'foo'",
     "output_type": "error",
     "traceback": [
      "\u001b[1;31m---------------------------------------------------------------------------\u001b[0m",
      "\u001b[1;31mKeyError\u001b[0m                                  Traceback (most recent call last)",
      "Input \u001b[1;32mIn [9]\u001b[0m, in \u001b[0;36m<cell line: 2>\u001b[1;34m()\u001b[0m\n\u001b[0;32m      1\u001b[0m spam \u001b[38;5;241m=\u001b[39m {\u001b[38;5;124m'\u001b[39m\u001b[38;5;124mbar\u001b[39m\u001b[38;5;124m'\u001b[39m: \u001b[38;5;241m100\u001b[39m}\n\u001b[1;32m----> 2\u001b[0m \u001b[43mspam\u001b[49m\u001b[43m \u001b[49m\u001b[43m[\u001b[49m\u001b[38;5;124;43m'\u001b[39;49m\u001b[38;5;124;43mfoo\u001b[39;49m\u001b[38;5;124;43m'\u001b[39;49m\u001b[43m]\u001b[49m\n",
      "\u001b[1;31mKeyError\u001b[0m: 'foo'"
     ]
    }
   ],
   "source": [
    "spam = {'bar': 100}\n",
    "spam ['foo']\n",
    "Ans : we recived key error "
   ]
  },
  {
   "cell_type": "code",
   "execution_count": null,
   "id": "3f8688ec",
   "metadata": {},
   "outputs": [],
   "source": [
    "5.if a dictionary is stored in spam,what is the difference between the expressions 'cat' in spam and 'cat' in spam.keys() ?\n",
    "\n",
    "Ans : There is no difference . The operator checks whether a value exits as a key in the dictionary or not."
   ]
  },
  {
   "cell_type": "code",
   "execution_count": null,
   "id": "098f4116",
   "metadata": {},
   "outputs": [],
   "source": [
    "6. if a dictionary is stored in spam,what is the difference between the expressions 'cat' in spam and 'cat' in spam.values() ?\n",
    "\n",
    "Ans : 'cat' in spam checks whether there is a 'cat' key in the dictionary, while 'cat' in spam.values() checks whether there is a value 'cat' for one of the keys in spam.\n"
   ]
  },
  {
   "cell_type": "code",
   "execution_count": null,
   "id": "fc45665b",
   "metadata": {},
   "outputs": [],
   "source": [
    "7. 7.what is a shortcut for the following code ?\n",
    "if 'color' not in spam:\n",
    "    spam['color'] ='black'\n",
    "    \n",
    "    "
   ]
  },
  {
   "cell_type": "code",
   "execution_count": 10,
   "id": "927dd530",
   "metadata": {},
   "outputs": [
    {
     "data": {
      "text/plain": [
       "'black'"
      ]
     },
     "execution_count": 10,
     "metadata": {},
     "output_type": "execute_result"
    }
   ],
   "source": [
    "#ans \n",
    "spam.setdefault('color' , 'black')"
   ]
  },
  {
   "cell_type": "code",
   "execution_count": null,
   "id": "4a2d26ea",
   "metadata": {},
   "outputs": [],
   "source": [
    "8.How do you 'pretty print' dictionary values using which modules and function ?\n",
    "\n",
    "Ans : ____________"
   ]
  }
 ],
 "metadata": {
  "kernelspec": {
   "display_name": "Python 3 (ipykernel)",
   "language": "python",
   "name": "python3"
  },
  "language_info": {
   "codemirror_mode": {
    "name": "ipython",
    "version": 3
   },
   "file_extension": ".py",
   "mimetype": "text/x-python",
   "name": "python",
   "nbconvert_exporter": "python",
   "pygments_lexer": "ipython3",
   "version": "3.9.12"
  }
 },
 "nbformat": 4,
 "nbformat_minor": 5
}
